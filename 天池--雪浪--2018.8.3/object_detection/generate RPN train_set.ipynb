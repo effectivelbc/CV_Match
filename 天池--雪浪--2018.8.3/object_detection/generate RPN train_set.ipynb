{
 "cells": [
  {
   "cell_type": "code",
   "execution_count": null,
   "metadata": {
    "collapsed": true
   },
   "outputs": [],
   "source": [
    "import os"
   ]
  },
  {
   "cell_type": "code",
   "execution_count": null,
   "metadata": {
    "scrolled": true
   },
   "outputs": [],
   "source": [
    "print(len(os.listdir(\"rpn_train\"))-1)\n",
    "for i in os.listdir(\"rpn_train\"):\n",
    "    \n",
    "    if i != 'bad':\n",
    "        print(i,len(os.listdir(\"rpn_train/\"+i))/2)"
   ]
  },
  {
   "cell_type": "code",
   "execution_count": null,
   "metadata": {
    "collapsed": true
   },
   "outputs": [],
   "source": [
    "import cv2\n",
    "def cv_imread(file_path):\n",
    "    cv_img = cv2.imdecode(np.fromfile(file_path,dtype=np.uint8),-1)\n",
    "    return cv_img\n",
    "def cv_imwrite(file_path,img):\n",
    "    cv2.imencode('.jpg', img)[1].tofile(file_path)"
   ]
  },
  {
   "cell_type": "code",
   "execution_count": null,
   "metadata": {},
   "outputs": [],
   "source": [
    "#如果文件夹内的数据小于15，则随机做亮度变化数据增强\n",
    "import shutil\n",
    "from random import choice\n",
    "from imgaug import augmenters as iaa\n",
    "import imgaug as ia\n",
    "import numpy as np\n",
    "\n",
    "seq = iaa.Sequential([\n",
    "            #iaa.Fliplr(1),\n",
    "            #iaa.Flipud(1),\n",
    "            iaa.Multiply((0.9, 1.1)),\n",
    "        ])\n",
    "\n",
    "\n",
    "\n",
    "for i in os.listdir(\"rpn_train\"):\n",
    "    if i != 'bad':\n",
    "        imageList = []\n",
    "        nameList = []\n",
    "        k = len(os.listdir(\"rpn_train/\"+i))/2\n",
    "        print(\"文件夹内\"+str(k)+\"张图片\")\n",
    "        #将当前目录下的图片名存在一个list中\n",
    "        images = []\n",
    "        for m in os.listdir(\"rpn_train/\"+i):\n",
    "            if m[-4:] != '.xml':\n",
    "                images.append(m)\n",
    "        \n",
    "        while k < 15:\n",
    "            #从images中随机取一个名字进行增强\n",
    "            img_name = 'rpn_train/'+i+'/'+choice(images)\n",
    "            nameList.append(img_name)\n",
    "            image = cv_imread(img_name)\n",
    "            imageList.append(image)\n",
    "            k+=1\n",
    "        \n",
    "        images_aug = seq.augment_images(imageList)\n",
    "        for n in range(len(images_aug)):\n",
    "            cv2.imencode('.jpg', images_aug[n])[1].tofile(nameList[n][:-4] + \"_augColor_\" + str(n) + \".jpg\")\n",
    "            #增强后按名字复制一份xml\n",
    "            shutil.copyfile(nameList[n][:-4] + '.xml', nameList[n][:-4] + \"_augColor_\" + str(n) + \".xml\")\n",
    "        print(i+\"增强完成\")\n",
    "            \n",
    "            "
   ]
  },
  {
   "cell_type": "code",
   "execution_count": null,
   "metadata": {
    "collapsed": true
   },
   "outputs": [],
   "source": [
    "import xml.etree.cElementTree as ET\n",
    "import sys\n",
    "import xml.dom.minidom"
   ]
  },
  {
   "cell_type": "code",
   "execution_count": null,
   "metadata": {},
   "outputs": [],
   "source": [
    "#将xml解析出来 将文件名和对应的类别 还有x1,y1,x2,y2放入一个文件夹中\n",
    "import csv\n",
    "with open('colorAug_train.csv','a+',newline='') as csv_file:\n",
    "    writer = csv.writer(csv_file)\n",
    "    \n",
    "    for i in os.listdir(\"rpn_train\"):\n",
    "        #print(i)\n",
    "        if i != 'bad':\n",
    "            for j in os.listdir(\"rpn_train/\"+i):\n",
    "                #print(j)\n",
    "                if(j[-4:] == '.xml'):\n",
    "                    DomTree = xml.dom.minidom.parse(\"rpn_train/\"+i+'/'+j)\n",
    "                    annotation = DomTree.documentElement\n",
    "                    filename = j[:-4]+'.jpg'\n",
    "                    #print(j)\n",
    "                    objectlist = annotation.getElementsByTagName('object')\n",
    "\n",
    "                    for objects in objectlist:\n",
    "                        bndbox = objects.getElementsByTagName('bndbox')\n",
    "                        #print(len(bndbox))\n",
    "                        for box in bndbox:\n",
    "                            x1_list = box.getElementsByTagName('xmin')\n",
    "                            x1 = int(x1_list[0].childNodes[0].data)\n",
    "                            y1_list = box.getElementsByTagName('ymin')\n",
    "                            y1 = int(y1_list[0].childNodes[0].data)\n",
    "                            x2_list = box.getElementsByTagName('xmax')\n",
    "                            x2 = int(x2_list[0].childNodes[0].data)\n",
    "                            y2_list = box.getElementsByTagName('ymax')\n",
    "                            y2 = int(y2_list[0].childNodes[0].data)\n",
    "                            #print(x1,y1,x2,y2)\n",
    "                            writer.writerow([filename,'bad',x1,y1,x2,y2])\n",
    "    \n",
    "                        \n",
    "                \n",
    "    "
   ]
  },
  {
   "cell_type": "code",
   "execution_count": null,
   "metadata": {
    "collapsed": true
   },
   "outputs": [],
   "source": [
    "#所有图片复制到rpn_train/bad中等待增强\n",
    "for i in os.listdir(\"rpn_train\"):\n",
    "    if i != 'bad':\n",
    "        for j in os.listdir(\"rpn_train\" + '/' + i):\n",
    "            if j[-4:]!='.xml':\n",
    "                shutil.copy(\"rpn_train\" + '/' + i + '/' + j,\"rpn_train/bad/\")\n",
    "                "
   ]
  },
  {
   "cell_type": "code",
   "execution_count": null,
   "metadata": {
    "collapsed": true
   },
   "outputs": [],
   "source": [
    "img_bbox_dict = {}\n",
    "with open(\"colorAug_train.csv\",\"r+\") as csv_file:\n",
    "    for line in csv_file.readlines():\n",
    "        img_name,category,x1,y1,x2,y2 = line[:-1].split(',')\n",
    "        if img_name not in img_bbox_dict:\n",
    "            img_bbox_dict[img_name] = []\n",
    "        img_bbox_dict[img_name].append([x1,y1,x2,y2])\n",
    "        \n",
    "        "
   ]
  },
  {
   "cell_type": "code",
   "execution_count": null,
   "metadata": {},
   "outputs": [],
   "source": [
    "img_bbox_dict"
   ]
  },
  {
   "cell_type": "code",
   "execution_count": null,
   "metadata": {
    "collapsed": true
   },
   "outputs": [],
   "source": [
    "#左右翻转\n",
    "def Fliplr(img):\n",
    "    seq = iaa.Sequential([\n",
    "            iaa.Fliplr(1),\n",
    "        ])\n",
    "    imageList=[img]\n",
    "    images_aug = seq.augment_images(imageList)\n",
    "    return images_aug[0]\n",
    "\n",
    "#上下翻转\n",
    "def Flipud(img):\n",
    "    seq = iaa.Sequential([\n",
    "            iaa.Flipud(1),\n",
    "        ])\n",
    "    imageList=[img]\n",
    "    images_aug = seq.augment_images(imageList)\n",
    "    return images_aug[0]\n",
    "\n",
    "def rotationPi(img):\n",
    "    seq = iaa.Sequential([\n",
    "            iaa.Affine(\n",
    "                rotate = (180, 180)\n",
    "            )\n",
    "        ])\n",
    "    imageList=[img]\n",
    "    images_aug = seq.augment_images(imageList)\n",
    "    return images_aug[0]"
   ]
  },
  {
   "cell_type": "code",
   "execution_count": null,
   "metadata": {
    "collapsed": true
   },
   "outputs": [],
   "source": [
    "import transform.transform as tr"
   ]
  },
  {
   "cell_type": "code",
   "execution_count": null,
   "metadata": {},
   "outputs": [],
   "source": [
    "abc=1\n",
    "with open(\"color_flip_rotate_Aug_train.csv\",'a',newline='') as csv_file:\n",
    "    writer = csv.writer(csv_file)\n",
    "    for i in os.listdir(\"rpn_train/bad\"):\n",
    "        #对每一个图片进行左右翻转，上下翻转，旋转180度三种数据增强，并且得到新的bbox值\n",
    "        print(abc)\n",
    "        img = cv_imread(\"rpn_train/bad/\" + i)\n",
    "        #左右翻转\n",
    "        imglr = Fliplr(img)\n",
    "        for bbox in img_bbox_dict[i]:\n",
    "            writer.writerow([i,'bad',bbox[0],bbox[1],bbox[2],bbox[3]])\n",
    "            bbox_new = tr.transform_aabb(transform=tr.change_transform_origin(transform=tr.random_flip(flip_x_chance=1,flip_y_chance=0),center=(1280,960)),aabb=[int(bbox[0]),int(bbox[1]),int(bbox[2]),int(bbox[3])])\n",
    "            #print(bbox_new)\n",
    "            writer.writerow([i[:-4] + 'fliplr.jpg','bad',bbox_new[0],bbox_new[1],bbox_new[2],bbox_new[3]])\n",
    "        cv_imwrite(file_path='rpn_train/bad_aug/'+ i[:-4] + 'fliplr.jpg',img=imglr)\n",
    "        #上下翻转\n",
    "        imgud = Flipud(img)\n",
    "        for bbox in img_bbox_dict[i]:\n",
    "            bbox_new = tr.transform_aabb(transform=tr.change_transform_origin(transform=tr.random_flip(flip_x_chance=0,flip_y_chance=1),center=(1280,960)),aabb=[int(bbox[0]),int(bbox[1]),int(bbox[2]),int(bbox[3])])\n",
    "            writer.writerow([i[:-4] + 'flipud.jpg','bad',bbox_new[0],bbox_new[1],bbox_new[2],bbox_new[3]])\n",
    "        cv_imwrite(file_path='rpn_train/bad_aug/'+ i[:-4] + 'flipud.jpg',img=imgud)\n",
    "        #旋转180度\n",
    "        imgrotate = rotationPi(img)\n",
    "        for bbox in img_bbox_dict[i]:\n",
    "            bbox_new = tr.transform_aabb(transform=tr.change_transform_origin(transform=tr.random_rotation(max=np.pi,min=np.pi),center=(1280,960)),aabb=[int(bbox[0]),int(bbox[1]),int(bbox[2]),int(bbox[3])])\n",
    "            writer.writerow([i[:-4] + 'rotatePi.jpg','bad',int(bbox_new[0]),int(bbox_new[1]),int(bbox_new[2]),int(bbox_new[3])])\n",
    "        cv_imwrite(file_path='rpn_train/bad_aug/'+ i[:-4] + 'rotatePi.jpg',img=imgrotate)\n",
    "        abc += 1\n",
    "    \n",
    "    "
   ]
  },
  {
   "cell_type": "code",
   "execution_count": null,
   "metadata": {
    "collapsed": true
   },
   "outputs": [],
   "source": [
    "#对于验证集\n",
    "#将xml解析出来 将文件名和对应的类别 还有x1,y1,x2,y2放入一个文件夹中\n",
    "import csv\n",
    "with open('val.csv','a+',newline='') as csv_file:\n",
    "    writer = csv.writer(csv_file)\n",
    "    \n",
    "    for i in os.listdir(\"val\"):\n",
    "        #print(i)\n",
    "        if i == '瑕疵xml':\n",
    "            for j in os.listdir(\"val/瑕疵xml\"):\n",
    "                #print(j)\n",
    "                if(j[-4:] == '.xml'):\n",
    "                    DomTree = xml.dom.minidom.parse(\"val/瑕疵xml/\"+j)\n",
    "                    annotation = DomTree.documentElement\n",
    "                    filename = j[:-4]+'.jpg'\n",
    "                    #print(j)\n",
    "                    objectlist = annotation.getElementsByTagName('object')\n",
    "\n",
    "                    for objects in objectlist:\n",
    "                        bndbox = objects.getElementsByTagName('bndbox')\n",
    "                        #print(len(bndbox))\n",
    "                        for box in bndbox:\n",
    "                            x1_list = box.getElementsByTagName('xmin')\n",
    "                            x1 = int(x1_list[0].childNodes[0].data)\n",
    "                            y1_list = box.getElementsByTagName('ymin')\n",
    "                            y1 = int(y1_list[0].childNodes[0].data)\n",
    "                            x2_list = box.getElementsByTagName('xmax')\n",
    "                            x2 = int(x2_list[0].childNodes[0].data)\n",
    "                            y2_list = box.getElementsByTagName('ymax')\n",
    "                            y2 = int(y2_list[0].childNodes[0].data)\n",
    "                            #print(x1,y1,x2,y2)\n",
    "                            writer.writerow([filename,'bad',x1,y1,x2,y2])\n",
    "\n"
   ]
  },
  {
   "cell_type": "code",
   "execution_count": null,
   "metadata": {},
   "outputs": [],
   "source": []
  },
  {
   "cell_type": "code",
   "execution_count": null,
   "metadata": {},
   "outputs": [],
   "source": []
  },
  {
   "cell_type": "code",
   "execution_count": null,
   "metadata": {
    "collapsed": true
   },
   "outputs": [],
   "source": []
  },
  {
   "cell_type": "code",
   "execution_count": null,
   "metadata": {},
   "outputs": [],
   "source": []
  },
  {
   "cell_type": "code",
   "execution_count": null,
   "metadata": {
    "collapsed": true
   },
   "outputs": [],
   "source": []
  },
  {
   "cell_type": "code",
   "execution_count": null,
   "metadata": {
    "collapsed": true
   },
   "outputs": [],
   "source": []
  },
  {
   "cell_type": "code",
   "execution_count": null,
   "metadata": {
    "scrolled": true
   },
   "outputs": [],
   "source": []
  },
  {
   "cell_type": "code",
   "execution_count": null,
   "metadata": {
    "collapsed": true
   },
   "outputs": [],
   "source": []
  },
  {
   "cell_type": "code",
   "execution_count": null,
   "metadata": {},
   "outputs": [],
   "source": []
  },
  {
   "cell_type": "code",
   "execution_count": null,
   "metadata": {
    "collapsed": true
   },
   "outputs": [],
   "source": []
  },
  {
   "cell_type": "code",
   "execution_count": null,
   "metadata": {},
   "outputs": [],
   "source": []
  },
  {
   "cell_type": "code",
   "execution_count": null,
   "metadata": {},
   "outputs": [],
   "source": []
  },
  {
   "cell_type": "code",
   "execution_count": null,
   "metadata": {},
   "outputs": [],
   "source": []
  },
  {
   "cell_type": "code",
   "execution_count": null,
   "metadata": {
    "collapsed": true
   },
   "outputs": [],
   "source": []
  },
  {
   "cell_type": "code",
   "execution_count": null,
   "metadata": {
    "collapsed": true
   },
   "outputs": [],
   "source": []
  }
 ],
 "metadata": {
  "kernelspec": {
   "display_name": "Python 3",
   "language": "python",
   "name": "python3"
  },
  "language_info": {
   "codemirror_mode": {
    "name": "ipython",
    "version": 3
   },
   "file_extension": ".py",
   "mimetype": "text/x-python",
   "name": "python",
   "nbconvert_exporter": "python",
   "pygments_lexer": "ipython3",
   "version": "3.6.3"
  }
 },
 "nbformat": 4,
 "nbformat_minor": 2
}
